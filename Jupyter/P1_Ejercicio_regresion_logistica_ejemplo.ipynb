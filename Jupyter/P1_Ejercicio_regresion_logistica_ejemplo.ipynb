{
  "nbformat": 4,
  "nbformat_minor": 0,
  "metadata": {
    "colab": {
      "name": "P1_Ejercicio_regresion_logistica_ejemplo.ipynb",
      "provenance": [],
      "collapsed_sections": []
    },
    "kernelspec": {
      "name": "python3",
      "display_name": "Python 3"
    },
    "language_info": {
      "name": "python"
    }
  },
  "cells": [
    {
      "cell_type": "markdown",
      "metadata": {
        "id": "n6TksQ044hV4"
      },
      "source": [
        "#Ejemplo Regresion Logistica usando el df(horas_estudio_vs_aprovacion)"
      ]
    },
    {
      "cell_type": "markdown",
      "metadata": {
        "id": "oyr6KmbI4vPB"
      },
      "source": [
        "##1. Cargamos las librerias"
      ]
    },
    {
      "cell_type": "code",
      "metadata": {
        "id": "oCQFNFYyr0sj"
      },
      "source": [
        "import numpy as np\n",
        "import pandas as pd\n",
        "\n",
        "import matplotlib.pyplot as plt\n",
        "import seaborn as sns\n",
        "\n"
      ],
      "execution_count": null,
      "outputs": []
    },
    {
      "cell_type": "markdown",
      "metadata": {
        "id": "RvxfyuBg4zyn"
      },
      "source": [
        "##2.Traemos la data "
      ]
    },
    {
      "cell_type": "code",
      "metadata": {
        "colab": {
          "base_uri": "https://localhost:8080/",
          "height": 359
        },
        "id": "u-NQQDhX3CMw",
        "outputId": "595a3a07-bf8f-46ce-a132-dfe24021ba27"
      },
      "source": [
        "df = pd.read_csv(\"https://raw.githubusercontent.com/2HenryCardenas1/DeepLearning/main/Databasets/horas_estudio_vs_aprobacion.csv\")\n"
      ],
      "execution_count": null,
      "outputs": [
        {
          "output_type": "execute_result",
          "data": {
            "text/html": [
              "<div>\n",
              "<style scoped>\n",
              "    .dataframe tbody tr th:only-of-type {\n",
              "        vertical-align: middle;\n",
              "    }\n",
              "\n",
              "    .dataframe tbody tr th {\n",
              "        vertical-align: top;\n",
              "    }\n",
              "\n",
              "    .dataframe thead th {\n",
              "        text-align: right;\n",
              "    }\n",
              "</style>\n",
              "<table border=\"1\" class=\"dataframe\">\n",
              "  <thead>\n",
              "    <tr style=\"text-align: right;\">\n",
              "      <th></th>\n",
              "      <th>horas</th>\n",
              "      <th>aprueba</th>\n",
              "    </tr>\n",
              "  </thead>\n",
              "  <tbody>\n",
              "    <tr>\n",
              "      <th>0</th>\n",
              "      <td>0.50</td>\n",
              "      <td>1</td>\n",
              "    </tr>\n",
              "    <tr>\n",
              "      <th>1</th>\n",
              "      <td>2.00</td>\n",
              "      <td>0</td>\n",
              "    </tr>\n",
              "    <tr>\n",
              "      <th>2</th>\n",
              "      <td>0.75</td>\n",
              "      <td>0</td>\n",
              "    </tr>\n",
              "    <tr>\n",
              "      <th>3</th>\n",
              "      <td>2.75</td>\n",
              "      <td>1</td>\n",
              "    </tr>\n",
              "    <tr>\n",
              "      <th>4</th>\n",
              "      <td>2.75</td>\n",
              "      <td>1</td>\n",
              "    </tr>\n",
              "    <tr>\n",
              "      <th>5</th>\n",
              "      <td>1.25</td>\n",
              "      <td>0</td>\n",
              "    </tr>\n",
              "    <tr>\n",
              "      <th>6</th>\n",
              "      <td>2.75</td>\n",
              "      <td>1</td>\n",
              "    </tr>\n",
              "    <tr>\n",
              "      <th>7</th>\n",
              "      <td>1.50</td>\n",
              "      <td>1</td>\n",
              "    </tr>\n",
              "    <tr>\n",
              "      <th>8</th>\n",
              "      <td>1.50</td>\n",
              "      <td>0</td>\n",
              "    </tr>\n",
              "    <tr>\n",
              "      <th>9</th>\n",
              "      <td>0.50</td>\n",
              "      <td>0</td>\n",
              "    </tr>\n",
              "  </tbody>\n",
              "</table>\n",
              "</div>"
            ],
            "text/plain": [
              "   horas  aprueba\n",
              "0   0.50        1\n",
              "1   2.00        0\n",
              "2   0.75        0\n",
              "3   2.75        1\n",
              "4   2.75        1\n",
              "5   1.25        0\n",
              "6   2.75        1\n",
              "7   1.50        1\n",
              "8   1.50        0\n",
              "9   0.50        0"
            ]
          },
          "metadata": {},
          "execution_count": 5
        }
      ]
    },
    {
      "cell_type": "markdown",
      "metadata": {
        "id": "k_dMNVoC46yh"
      },
      "source": [
        "##3.Conociendo los datos que tiene el dataset"
      ]
    },
    {
      "cell_type": "code",
      "metadata": {
        "colab": {
          "base_uri": "https://localhost:8080/"
        },
        "id": "uQ7TT1UZ4_zW",
        "outputId": "75ff4201-69c5-4e61-b479-2f91a23e32d2"
      },
      "source": [
        "#primeros 5 regirstros del dataframe\n",
        "#df.head(5)\n",
        "#dimensiones del dataframe\n",
        "df.shape"
      ],
      "execution_count": null,
      "outputs": [
        {
          "output_type": "execute_result",
          "data": {
            "text/plain": [
              "(2000, 2)"
            ]
          },
          "metadata": {},
          "execution_count": 6
        }
      ]
    },
    {
      "cell_type": "markdown",
      "metadata": {
        "id": "Z1nGWkBo5LvK"
      },
      "source": [
        "###Verificando si hay datos nulos"
      ]
    },
    {
      "cell_type": "code",
      "metadata": {
        "colab": {
          "base_uri": "https://localhost:8080/"
        },
        "id": "GQMgmMRB5LJ3",
        "outputId": "e501c8a5-73b3-4a57-f8ab-b5890da3fd02"
      },
      "source": [
        "df.isnull().sum()"
      ],
      "execution_count": null,
      "outputs": [
        {
          "output_type": "execute_result",
          "data": {
            "text/plain": [
              "horas      0\n",
              "aprueba    0\n",
              "dtype: int64"
            ]
          },
          "metadata": {},
          "execution_count": 7
        }
      ]
    },
    {
      "cell_type": "markdown",
      "metadata": {
        "id": "cCQDALvL5RKa"
      },
      "source": [
        "###Graficando los datos del dataset"
      ]
    },
    {
      "cell_type": "code",
      "metadata": {
        "id": "hqSkWJiJ5aoQ"
      },
      "source": [
        "sns.set(rc={'figure.figsize':(11.7,8.27)})  #tamaño del grafico\n",
        "sns.distplot(df['horas'])                #agregamos los datos\n",
        "plt.show()"
      ],
      "execution_count": null,
      "outputs": []
    },
    {
      "cell_type": "code",
      "metadata": {
        "id": "D36L1mBg5fFu"
      },
      "source": [
        "X = df['horas']\n",
        "y = df['aprueba']\n",
        "plt.scatter(X,y, s=15, alpha=0.5)\n",
        "plt.xlabel('horas de estudio')\n",
        "plt.ylabel('aprueba examen')\n",
        "plt.show()"
      ],
      "execution_count": null,
      "outputs": []
    },
    {
      "cell_type": "markdown",
      "metadata": {
        "id": "4AZusiD55m5f"
      },
      "source": [
        "##4.Separando los datos para el entrenamiento"
      ]
    },
    {
      "cell_type": "code",
      "metadata": {
        "id": "slptQpu_5xyN"
      },
      "source": [
        "#En X colocaremos el tiempo de estudio que tomaron los estudiantes antes del examen\n",
        "#apilamos los datos que vienen en 1d a 2d  \n",
        "#opcion 1: usamos np.c_\n",
        "#X = pd.DataFrame(np.c_[df['horas']], columns = ['horas'])\n",
        "#opcion2: usamos .reshape(-1, 1)\n",
        "X = np.array(df['horas']).reshape(-1, 1)\n",
        "#En Y colocaremos el resultado del examen (1 / 0 ) (aprobado / reprobado)\n",
        "y= np.array(df['aprueba'])\n",
        "print(X)"
      ],
      "execution_count": null,
      "outputs": []
    },
    {
      "cell_type": "markdown",
      "metadata": {
        "id": "j1mk_6vg51ON"
      },
      "source": [
        "##5.Importamos la clase LogisticRegresion de scikit-learn"
      ]
    },
    {
      "cell_type": "code",
      "metadata": {
        "id": "IGlQwqMd55Ie"
      },
      "source": [
        "#clase de regresión logistica disponsible en sklearn\n",
        "from sklearn.linear_model import LogisticRegression\n",
        "#Creamos una instancia de la Regresión Logística\n",
        "regresion_logistica = LogisticRegression()"
      ],
      "execution_count": null,
      "outputs": []
    },
    {
      "cell_type": "markdown",
      "metadata": {
        "id": "aIP2z5p25_XI"
      },
      "source": [
        "##6.Entrenar la regresión logística con los datos de entrenamiento"
      ]
    },
    {
      "cell_type": "code",
      "metadata": {
        "colab": {
          "base_uri": "https://localhost:8080/"
        },
        "id": "c0uVkbnZ6CoS",
        "outputId": "b80fe020-872b-44fe-bdc3-064115f0c293"
      },
      "source": [
        "#entrenando modelo de regresión logistica\n",
        "regresion_logistica.fit(X,y)"
      ],
      "execution_count": null,
      "outputs": [
        {
          "output_type": "execute_result",
          "data": {
            "text/plain": [
              "LogisticRegression(C=1.0, class_weight=None, dual=False, fit_intercept=True,\n",
              "                   intercept_scaling=1, l1_ratio=None, max_iter=100,\n",
              "                   multi_class='auto', n_jobs=None, penalty='l2',\n",
              "                   random_state=None, solver='lbfgs', tol=0.0001, verbose=0,\n",
              "                   warm_start=False)"
            ]
          },
          "metadata": {},
          "execution_count": 12
        }
      ]
    },
    {
      "cell_type": "markdown",
      "metadata": {
        "id": "ghJpeTY_6F89"
      },
      "source": [
        "##7.Haciendo predicciones"
      ]
    },
    {
      "cell_type": "markdown",
      "metadata": {
        "id": "aTr-F_MJ6L8g"
      },
      "source": [
        "Tomaremos una grupo de horas y miraremos que probabilidad de pasar el examen tenemos"
      ]
    },
    {
      "cell_type": "code",
      "metadata": {
        "colab": {
          "base_uri": "https://localhost:8080/"
        },
        "id": "RnSkQCbA6ObJ",
        "outputId": "8126eddb-bc2f-4f96-9b4d-83cbc824d1a5"
      },
      "source": [
        "#definimos que pasa si el estudiante estudia entre 1 a 6 horas\n",
        "X_nuevo = np.array([1, 2, 3, 4, 5, 6]).reshape(-1,1)\n",
        "#ejecutamos la predicción\n",
        "prediccion = regresion_logistica.predict(X_nuevo)\n",
        "print(prediccion)"
      ],
      "execution_count": null,
      "outputs": [
        {
          "output_type": "stream",
          "name": "stdout",
          "text": [
            "[0 0 0 1 1 1]\n"
          ]
        }
      ]
    },
    {
      "cell_type": "markdown",
      "metadata": {
        "id": "u1_NdyrT6T3l"
      },
      "source": [
        "##8.Generando probabilidades de la predicción"
      ]
    },
    {
      "cell_type": "code",
      "metadata": {
        "colab": {
          "base_uri": "https://localhost:8080/"
        },
        "id": "x77QvZ6z6ZAf",
        "outputId": "2c523217-5e6c-49d8-c2ae-a67d02d34e71"
      },
      "source": [
        "probabilidades_prediccion = regresion_logistica.predict_proba(X_nuevo)\n",
        "#la primera columna es la probabilidad de reprobar (0)\n",
        "#la segunda columna es  la probabilidad de aprobar (1)\n",
        "print(probabilidades_prediccion)\n",
        "#si solo nos interesa la probabilidad de aprobar\n",
        "print(probabilidades_prediccion[:,1])"
      ],
      "execution_count": null,
      "outputs": [
        {
          "output_type": "stream",
          "name": "stdout",
          "text": [
            "[[0.5112111  0.4887889 ]\n",
            " [0.50683522 0.49316478]\n",
            " [0.50245829 0.49754171]\n",
            " [0.49808099 0.50191901]\n",
            " [0.49370398 0.50629602]\n",
            " [0.48932793 0.51067207]]\n",
            "[0.4887889  0.49316478 0.49754171 0.50191901 0.50629602 0.51067207]\n"
          ]
        }
      ]
    },
    {
      "cell_type": "markdown",
      "metadata": {
        "id": "5E7qvzF96ncF"
      },
      "source": [
        "Estos valores no nos sirven para ni para ejemplo"
      ]
    },
    {
      "cell_type": "markdown",
      "metadata": {
        "id": "GMViIxul64XS"
      },
      "source": [
        "#Ahora si, el ejemplo teniendo en cuenta las horas de estudio, dataset(horas_estudio_vs_aprovacion_vs_horas_de_estudio)"
      ]
    },
    {
      "cell_type": "markdown",
      "metadata": {
        "id": "mlURji7n7C_x"
      },
      "source": [
        "##1.Cargando Librerías necesarias"
      ]
    },
    {
      "cell_type": "code",
      "metadata": {
        "id": "D1yf379F7GTT"
      },
      "source": [
        "import pandas as pd\n",
        "import numpy as np\n",
        "\n",
        "import seaborn as sns\n",
        "import matplotlib.pyplot as plt\n",
        "from sklearn import metrics \n",
        "from sklearn.linear_model import LogisticRegression\n",
        "from sklearn.model_selection import train_test_split"
      ],
      "execution_count": 1,
      "outputs": []
    },
    {
      "cell_type": "markdown",
      "metadata": {
        "id": "fsBZFpL07J3F"
      },
      "source": [
        "##2. Conectarse a google drive y cargar el CSV con el dataset"
      ]
    },
    {
      "cell_type": "code",
      "metadata": {
        "id": "vUk_04P-7fiA"
      },
      "source": [
        "df = pd.read_csv(\"https://raw.githubusercontent.com/2HenryCardenas1/DeepLearning/main/Databasets/horas_estudio_tutorias_vs_aprobacion.csv\")"
      ],
      "execution_count": 15,
      "outputs": []
    },
    {
      "cell_type": "markdown",
      "metadata": {
        "id": "sglMT6717r_5"
      },
      "source": [
        "##3. Conociendo los datos"
      ]
    },
    {
      "cell_type": "code",
      "metadata": {
        "colab": {
          "base_uri": "https://localhost:8080/",
          "height": 205
        },
        "id": "JKDF7ZV67xX4",
        "outputId": "fc157d7f-5a78-4160-9039-5e026b5e3382"
      },
      "source": [
        "#primeros 5 registros del dataframe\n",
        "df.head(5)"
      ],
      "execution_count": 3,
      "outputs": [
        {
          "output_type": "execute_result",
          "data": {
            "text/html": [
              "<div>\n",
              "<style scoped>\n",
              "    .dataframe tbody tr th:only-of-type {\n",
              "        vertical-align: middle;\n",
              "    }\n",
              "\n",
              "    .dataframe tbody tr th {\n",
              "        vertical-align: top;\n",
              "    }\n",
              "\n",
              "    .dataframe thead th {\n",
              "        text-align: right;\n",
              "    }\n",
              "</style>\n",
              "<table border=\"1\" class=\"dataframe\">\n",
              "  <thead>\n",
              "    <tr style=\"text-align: right;\">\n",
              "      <th></th>\n",
              "      <th>horas_autoestudio_diario</th>\n",
              "      <th>tutorias_mes</th>\n",
              "      <th>aprobo_perdio</th>\n",
              "    </tr>\n",
              "  </thead>\n",
              "  <tbody>\n",
              "    <tr>\n",
              "      <th>0</th>\n",
              "      <td>7</td>\n",
              "      <td>27</td>\n",
              "      <td>1</td>\n",
              "    </tr>\n",
              "    <tr>\n",
              "      <th>1</th>\n",
              "      <td>2</td>\n",
              "      <td>43</td>\n",
              "      <td>0</td>\n",
              "    </tr>\n",
              "    <tr>\n",
              "      <th>2</th>\n",
              "      <td>7</td>\n",
              "      <td>26</td>\n",
              "      <td>1</td>\n",
              "    </tr>\n",
              "    <tr>\n",
              "      <th>3</th>\n",
              "      <td>8</td>\n",
              "      <td>29</td>\n",
              "      <td>1</td>\n",
              "    </tr>\n",
              "    <tr>\n",
              "      <th>4</th>\n",
              "      <td>3</td>\n",
              "      <td>42</td>\n",
              "      <td>0</td>\n",
              "    </tr>\n",
              "  </tbody>\n",
              "</table>\n",
              "</div>"
            ],
            "text/plain": [
              "   horas_autoestudio_diario  tutorias_mes  aprobo_perdio\n",
              "0                         7            27              1\n",
              "1                         2            43              0\n",
              "2                         7            26              1\n",
              "3                         8            29              1\n",
              "4                         3            42              0"
            ]
          },
          "metadata": {},
          "execution_count": 3
        }
      ]
    },
    {
      "cell_type": "code",
      "metadata": {
        "colab": {
          "base_uri": "https://localhost:8080/"
        },
        "id": "_dbpH2Yv73U9",
        "outputId": "0dd67277-318f-47f6-9eec-6f9a5513e089"
      },
      "source": [
        "#dimensiones del dataframe\n",
        "print(\"matrix df [MxN] ->\"+str(df.shape))\n",
        "#verificamos que no hayan nulos\n",
        "print(\"---Columnas con valores nulos--\")\n",
        "print(df.isnull().sum())"
      ],
      "execution_count": 4,
      "outputs": [
        {
          "output_type": "stream",
          "name": "stdout",
          "text": [
            "matrix df [MxN] ->(1000, 3)\n",
            "---Columnas con valores nulos--\n",
            "horas_autoestudio_diario    0\n",
            "tutorias_mes                0\n",
            "aprobo_perdio               0\n",
            "dtype: int64\n"
          ]
        }
      ]
    },
    {
      "cell_type": "code",
      "metadata": {
        "colab": {
          "base_uri": "https://localhost:8080/",
          "height": 574
        },
        "id": "YRoejjcl740c",
        "outputId": "549c4741-8566-4c26-f1d7-377f2516c7ef"
      },
      "source": [
        "sns.set(rc={'figure.figsize':(11.7,8.27)})  #tamaño del grafico\n",
        "sns.distplot(df['tutorias_mes'])                #agregamos los datos\n",
        "plt.show()"
      ],
      "execution_count": 5,
      "outputs": [
        {
          "output_type": "stream",
          "name": "stderr",
          "text": [
            "/usr/local/lib/python3.7/dist-packages/seaborn/distributions.py:2557: FutureWarning: `distplot` is a deprecated function and will be removed in a future version. Please adapt your code to use either `displot` (a figure-level function with similar flexibility) or `histplot` (an axes-level function for histograms).\n",
            "  warnings.warn(msg, FutureWarning)\n"
          ]
        },
        {
          "output_type": "display_data",
          "data": {
            "image/png": "[encoded data removed]",
            "text/plain": [
              "<Figure size 842.4x595.44 with 1 Axes>"
            ]
          },
          "metadata": {}
        }
      ]
    },
    {
      "cell_type": "markdown",
      "metadata": {
        "id": "_5ru8m1-79ic"
      },
      "source": [
        "##4.Separando los datos para el entrenamiento\n",
        "\n",
        "separaremos las características y etiquetamos como X e Y respectivamente.\n",
        "\n",
        "  -la variable X (horas_autoestudio_diario + tutorias_mes)\n",
        "  -la varible Y (aprobo_perdio)"
      ]
    },
    {
      "cell_type": "code",
      "metadata": {
        "id": "nH5w0TBF7-3K",
        "colab": {
          "base_uri": "https://localhost:8080/",
          "height": 205
        },
        "outputId": "406d6c1b-f0a7-4c36-e75c-99ddd80a8a87"
      },
      "source": [
        "x = df.drop('aprobo_perdio',axis = 1)\n",
        "y = df.aprobo_perdio\n",
        "df.head()"
      ],
      "execution_count": 6,
      "outputs": [
        {
          "output_type": "execute_result",
          "data": {
            "text/html": [
              "<div>\n",
              "<style scoped>\n",
              "    .dataframe tbody tr th:only-of-type {\n",
              "        vertical-align: middle;\n",
              "    }\n",
              "\n",
              "    .dataframe tbody tr th {\n",
              "        vertical-align: top;\n",
              "    }\n",
              "\n",
              "    .dataframe thead th {\n",
              "        text-align: right;\n",
              "    }\n",
              "</style>\n",
              "<table border=\"1\" class=\"dataframe\">\n",
              "  <thead>\n",
              "    <tr style=\"text-align: right;\">\n",
              "      <th></th>\n",
              "      <th>horas_autoestudio_diario</th>\n",
              "      <th>tutorias_mes</th>\n",
              "      <th>aprobo_perdio</th>\n",
              "    </tr>\n",
              "  </thead>\n",
              "  <tbody>\n",
              "    <tr>\n",
              "      <th>0</th>\n",
              "      <td>7</td>\n",
              "      <td>27</td>\n",
              "      <td>1</td>\n",
              "    </tr>\n",
              "    <tr>\n",
              "      <th>1</th>\n",
              "      <td>2</td>\n",
              "      <td>43</td>\n",
              "      <td>0</td>\n",
              "    </tr>\n",
              "    <tr>\n",
              "      <th>2</th>\n",
              "      <td>7</td>\n",
              "      <td>26</td>\n",
              "      <td>1</td>\n",
              "    </tr>\n",
              "    <tr>\n",
              "      <th>3</th>\n",
              "      <td>8</td>\n",
              "      <td>29</td>\n",
              "      <td>1</td>\n",
              "    </tr>\n",
              "    <tr>\n",
              "      <th>4</th>\n",
              "      <td>3</td>\n",
              "      <td>42</td>\n",
              "      <td>0</td>\n",
              "    </tr>\n",
              "  </tbody>\n",
              "</table>\n",
              "</div>"
            ],
            "text/plain": [
              "   horas_autoestudio_diario  tutorias_mes  aprobo_perdio\n",
              "0                         7            27              1\n",
              "1                         2            43              0\n",
              "2                         7            26              1\n",
              "3                         8            29              1\n",
              "4                         3            42              0"
            ]
          },
          "metadata": {},
          "execution_count": 6
        }
      ]
    },
    {
      "cell_type": "markdown",
      "metadata": {
        "id": "zLbArsAn8KYp"
      },
      "source": [
        "Dividiremos los datos en conjuntos de train y test. Esto separará 25%(! valor predeterminado) de los datos en un subconjunto para la parte de prueba y el 75% restante se usará para nuestro subconjunto de entrenamiento"
      ]
    },
    {
      "cell_type": "code",
      "metadata": {
        "id": "i3_JY_kR8LI1"
      },
      "source": [
        "#separamos los datos 25%(test) y 75%(train)\n",
        "#x_train, x_test, y_train, y_test = train_test_split(x, y, random_state=4)\n",
        "#Si deseamos cambiar la proporción solo debemos agregar la variable test_size=0.x \n",
        "x_train, x_test, y_train, y_test = train_test_split(x, y, random_state=4,test_size=0.2)"
      ],
      "execution_count": 7,
      "outputs": []
    },
    {
      "cell_type": "markdown",
      "metadata": {
        "id": "wthW545T8PTF"
      },
      "source": [
        "##5. importamos la clase LogisticRegresion de scikit-learn"
      ]
    },
    {
      "cell_type": "code",
      "metadata": {
        "id": "nLwwH1rT8Qvp"
      },
      "source": [
        "#Creamos una instancia de la Regresión Logística\n",
        "regresion_logistica = LogisticRegression()"
      ],
      "execution_count": 8,
      "outputs": []
    },
    {
      "cell_type": "markdown",
      "metadata": {
        "id": "dMqGIkhh8Sw7"
      },
      "source": [
        "##6. Entrena la regresión logística con los datos de entrenamiento"
      ]
    },
    {
      "cell_type": "code",
      "metadata": {
        "colab": {
          "base_uri": "https://localhost:8080/"
        },
        "id": "MxWoxial8VX4",
        "outputId": "05857b8b-561f-4403-fcda-4ec6dab1aeee"
      },
      "source": [
        "#entrenando modelo de regresión logistica\n",
        "regresion_logistica.fit(x,y)"
      ],
      "execution_count": 9,
      "outputs": [
        {
          "output_type": "execute_result",
          "data": {
            "text/plain": [
              "LogisticRegression(C=1.0, class_weight=None, dual=False, fit_intercept=True,\n",
              "                   intercept_scaling=1, l1_ratio=None, max_iter=100,\n",
              "                   multi_class='auto', n_jobs=None, penalty='l2',\n",
              "                   random_state=None, solver='lbfgs', tol=0.0001, verbose=0,\n",
              "                   warm_start=False)"
            ]
          },
          "metadata": {},
          "execution_count": 9
        }
      ]
    },
    {
      "cell_type": "markdown",
      "metadata": {
        "id": "2IfVid9d8XjF"
      },
      "source": [
        "##7.Haciendo predicciones"
      ]
    },
    {
      "cell_type": "code",
      "metadata": {
        "id": "zjxlOsxS8a4u"
      },
      "source": [
        "#usaremos el 20% de los datos para probar el modelo\n",
        "#ejecutamos la predicción con datos de prueba (x_test)\n",
        "y_prediccion = regresion_logistica.predict(x_test)"
      ],
      "execution_count": 10,
      "outputs": []
    },
    {
      "cell_type": "code",
      "metadata": {
        "colab": {
          "base_uri": "https://localhost:8080/",
          "height": 517
        },
        "id": "Dhs7f3cktm25",
        "outputId": "2c0bf489-633c-448b-c976-5b96c4cef270"
      },
      "source": [
        "#visualizar la predicción en los datos de testeo\n",
        "X = df['horas_autoestudio_diario']\n",
        "y = df['aprobo_perdio']\n",
        "plt.scatter(X,y, s=15, alpha=0.5)\n",
        "plt.xlabel('horas de estudio')\n",
        "plt.ylabel('aprueba examen')\n",
        "plt.show()"
      ],
      "execution_count": 16,
      "outputs": [
        {
          "output_type": "display_data",
          "data": {
            "image/png": "[encoded data removed]",
            "text/plain": [
              "<Figure size 842.4x595.44 with 1 Axes>"
            ]
          },
          "metadata": {}
        }
      ]
    },
    {
      "cell_type": "markdown",
      "metadata": {
        "id": "TYPrYxLf8gyN"
      },
      "source": [
        "##8. Generando probabilidades de la predicción"
      ]
    },
    {
      "cell_type": "code",
      "metadata": {
        "id": "Jvkduw4S8jAR"
      },
      "source": [
        "#comparamos los datos de predicción (y_prediccion) VS los datos de prueba (y_test)\n",
        "exactitud = metrics.accuracy_score(y_test, y_prediccion)\n",
        "print(\"exactitud_porcentaje= \"+str(100 * exactitud))"
      ],
      "execution_count": null,
      "outputs": []
    },
    {
      "cell_type": "markdown",
      "metadata": {
        "id": "_k1tHosm8pie"
      },
      "source": [
        "probemos con datos manuales para probar el modelo"
      ]
    },
    {
      "cell_type": "code",
      "metadata": {
        "id": "_BV-vGYd8qVL"
      },
      "source": [
        "#hagamos prediccion con datos manuales: \n",
        "#              [horas_estudio , horas_tutoria]\n",
        "#1-estudiante: [ 4            , 38 ]\n",
        "#2-estudiante: [ 8            , 29 ]\n",
        "#3-estudiante: [ 1            , 1  ]\n",
        "alumnos=np.array([[4, 38], [8, 29],[1.5,2],[10.75,2.5]])\n",
        "x_nuevo = pd.DataFrame(alumnos,columns = ['horas_autoestudio_diario','tutorias_mes'])\n",
        "y_prediccion = regresion_logistica.predict(x_nuevo)\n",
        "print(y_prediccion)"
      ],
      "execution_count": null,
      "outputs": []
    }
  ]
}