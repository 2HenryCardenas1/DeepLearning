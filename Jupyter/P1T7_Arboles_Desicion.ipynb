{
  "nbformat": 4,
  "nbformat_minor": 0,
  "metadata": {
    "colab": {
      "name": "P1T7_Arboles_Desicion.ipynb",
      "provenance": []
    },
    "kernelspec": {
      "name": "python3",
      "display_name": "Python 3"
    },
    "language_info": {
      "name": "python"
    }
  },
  "cells": [
    {
      "cell_type": "markdown",
      "metadata": {
        "id": "GM1XmDHDtZUC"
      },
      "source": [
        "#Arbol de desición con dataset banco\n"
      ]
    },
    {
      "cell_type": "code",
      "metadata": {
        "id": "Zpjynj7mfLw3"
      },
      "source": [
        "import numpy as np\n",
        "import pandas as pd\n",
        "\n",
        "from sklearn.model_selection import train_test_split    #clase para dividir dataset (train y test)\n",
        "from sklearn.tree import DecisionTreeClassifier         #clase que permite implementar un arbol de desición\n",
        "from sklearn.metrics import accuracy_score              #clase para generar la exactitud del modelo (accuracy)\n",
        "import matplotlib.pyplot as plt                         #libreria para generar graficos\n",
        "import seaborn as sns"
      ],
      "execution_count": null,
      "outputs": []
    },
    {
      "cell_type": "code",
      "metadata": {
        "colab": {
          "base_uri": "https://localhost:8080/",
          "height": 224
        },
        "id": "rt4r_VcPtj3x",
        "outputId": "313eece3-1e77-4964-edaf-641cbbdb1de3"
      },
      "source": [
        "df = pd.read_csv(\"https://raw.githubusercontent.com/2HenryCardenas1/DeepLearning/main/Datasets/mercadeo_bancario.csv\")\n",
        "df.head()"
      ],
      "execution_count": null,
      "outputs": [
        {
          "output_type": "execute_result",
          "data": {
            "text/html": [
              "<div>\n",
              "<style scoped>\n",
              "    .dataframe tbody tr th:only-of-type {\n",
              "        vertical-align: middle;\n",
              "    }\n",
              "\n",
              "    .dataframe tbody tr th {\n",
              "        vertical-align: top;\n",
              "    }\n",
              "\n",
              "    .dataframe thead th {\n",
              "        text-align: right;\n",
              "    }\n",
              "</style>\n",
              "<table border=\"1\" class=\"dataframe\">\n",
              "  <thead>\n",
              "    <tr style=\"text-align: right;\">\n",
              "      <th></th>\n",
              "      <th>edad</th>\n",
              "      <th>trabajo</th>\n",
              "      <th>estado_civil</th>\n",
              "      <th>educacion</th>\n",
              "      <th>total_hijos</th>\n",
              "      <th>credito_sin_pago</th>\n",
              "      <th>prestamo_vivienda</th>\n",
              "      <th>prestamo_personal</th>\n",
              "      <th>valor_prestamo</th>\n",
              "      <th>dias_ultimo_pago</th>\n",
              "      <th>tarjetas_credito</th>\n",
              "      <th>contacto</th>\n",
              "      <th>mes</th>\n",
              "      <th>dia_semana</th>\n",
              "      <th>duracion_ultimo_contacto</th>\n",
              "      <th>dias_ultimo_contacto</th>\n",
              "      <th>anterior_contacto</th>\n",
              "      <th>numero_empleados</th>\n",
              "      <th>si_no</th>\n",
              "    </tr>\n",
              "  </thead>\n",
              "  <tbody>\n",
              "    <tr>\n",
              "      <th>0</th>\n",
              "      <td>44</td>\n",
              "      <td>blue-collar</td>\n",
              "      <td>married</td>\n",
              "      <td>preschool</td>\n",
              "      <td>7</td>\n",
              "      <td>unknown</td>\n",
              "      <td>yes</td>\n",
              "      <td>no</td>\n",
              "      <td>268017</td>\n",
              "      <td>0</td>\n",
              "      <td>5</td>\n",
              "      <td>cellular</td>\n",
              "      <td>aug</td>\n",
              "      <td>thu</td>\n",
              "      <td>210</td>\n",
              "      <td>43</td>\n",
              "      <td>0</td>\n",
              "      <td>88</td>\n",
              "      <td>0</td>\n",
              "    </tr>\n",
              "    <tr>\n",
              "      <th>1</th>\n",
              "      <td>53</td>\n",
              "      <td>technician</td>\n",
              "      <td>married</td>\n",
              "      <td>unknown</td>\n",
              "      <td>1</td>\n",
              "      <td>no</td>\n",
              "      <td>no</td>\n",
              "      <td>no</td>\n",
              "      <td>0</td>\n",
              "      <td>0</td>\n",
              "      <td>0</td>\n",
              "      <td>cellular</td>\n",
              "      <td>nov</td>\n",
              "      <td>fri</td>\n",
              "      <td>138</td>\n",
              "      <td>0</td>\n",
              "      <td>0</td>\n",
              "      <td>14</td>\n",
              "      <td>0</td>\n",
              "    </tr>\n",
              "    <tr>\n",
              "      <th>2</th>\n",
              "      <td>28</td>\n",
              "      <td>management</td>\n",
              "      <td>single</td>\n",
              "      <td>university.degree</td>\n",
              "      <td>3</td>\n",
              "      <td>no</td>\n",
              "      <td>yes</td>\n",
              "      <td>no</td>\n",
              "      <td>308036</td>\n",
              "      <td>0</td>\n",
              "      <td>0</td>\n",
              "      <td>cellular</td>\n",
              "      <td>jun</td>\n",
              "      <td>thu</td>\n",
              "      <td>339</td>\n",
              "      <td>27</td>\n",
              "      <td>2</td>\n",
              "      <td>1993</td>\n",
              "      <td>1</td>\n",
              "    </tr>\n",
              "    <tr>\n",
              "      <th>3</th>\n",
              "      <td>39</td>\n",
              "      <td>services</td>\n",
              "      <td>married</td>\n",
              "      <td>Technological_school</td>\n",
              "      <td>1</td>\n",
              "      <td>no</td>\n",
              "      <td>no</td>\n",
              "      <td>no</td>\n",
              "      <td>0</td>\n",
              "      <td>0</td>\n",
              "      <td>4</td>\n",
              "      <td>cellular</td>\n",
              "      <td>apr</td>\n",
              "      <td>fri</td>\n",
              "      <td>185</td>\n",
              "      <td>0</td>\n",
              "      <td>0</td>\n",
              "      <td>1338</td>\n",
              "      <td>0</td>\n",
              "    </tr>\n",
              "    <tr>\n",
              "      <th>4</th>\n",
              "      <td>55</td>\n",
              "      <td>retired</td>\n",
              "      <td>married</td>\n",
              "      <td>preschool</td>\n",
              "      <td>2</td>\n",
              "      <td>no</td>\n",
              "      <td>yes</td>\n",
              "      <td>no</td>\n",
              "      <td>249888</td>\n",
              "      <td>0</td>\n",
              "      <td>4</td>\n",
              "      <td>cellular</td>\n",
              "      <td>aug</td>\n",
              "      <td>fri</td>\n",
              "      <td>137</td>\n",
              "      <td>2</td>\n",
              "      <td>1</td>\n",
              "      <td>1184</td>\n",
              "      <td>1</td>\n",
              "    </tr>\n",
              "  </tbody>\n",
              "</table>\n",
              "</div>"
            ],
            "text/plain": [
              "   edad      trabajo estado_civil   ... anterior_contacto  numero_empleados si_no\n",
              "0    44  blue-collar       married  ...                 0                88     0\n",
              "1    53   technician       married  ...                 0                14     0\n",
              "2    28   management        single  ...                 2              1993     1\n",
              "3    39     services       married  ...                 0              1338     0\n",
              "4    55      retired       married  ...                 1              1184     1\n",
              "\n",
              "[5 rows x 19 columns]"
            ]
          },
          "metadata": {},
          "execution_count": 36
        }
      ]
    },
    {
      "cell_type": "code",
      "metadata": {
        "id": "XXO0OTR0vAv_"
      },
      "source": [
        "valores_trabajo = {'trabajo':{'blue-collar':1, 'technician':2, 'management':3, 'services':4, 'retired':5,\n",
        "       'admin.':6, 'housemaid':7, 'unemployed':8, 'entrepreneur':9,\n",
        "       'self-employed':10, 'unknown':11, 'student':12 }}\n",
        "\n",
        "valores_estado_civil = {'estado_civil ':{'married':1, 'single':2, 'divorced':3, 'unknown':4}}\n",
        "\n",
        "valores_educacion = {'educacion':{'preschool':1, 'unknown':2, 'university.degree':3,\n",
        "       'Technological_school':4, 'tecnical_school':5, 'professional.course':6,\n",
        "       'primary_school':7, 'illiterate':8}}   \n",
        "\n",
        "valores_credito_sin_pago = {'credito_sin_pago':{'unknown':0, 'no':1, 'yes':2}} \n",
        "\n",
        "valores_prestamo_vivienda = {'prestamo_vivienda':{'yes':2, 'no':1, 'unknown':0}}          \n",
        "\n",
        "valores_prestamo_personal = {'prestamo_personal':{'yes':2, 'no':1, 'unknown':0}}  \n",
        "\n",
        "valores_contacto = {'contacto':{'cellular':0, 'telephone':1}}\n",
        "\n",
        "valores_mes = {'mes':{'aug':8, 'nov':11, 'jun':6, 'apr':4, 'jul':6, 'may':5, 'oct':10, 'mar':3, 'sep':9,\n",
        "       'dec':12}}\n",
        "\n",
        "valores_dia_semana = {'dia_semana':{'thu':4, 'fri':5, 'tue':2, 'mon':1, 'wed':3}}     "
      ],
      "execution_count": null,
      "outputs": []
    },
    {
      "cell_type": "code",
      "metadata": {
        "id": "eplD_hKqvExd"
      },
      "source": [
        "df.replace(valores_trabajo,inplace=True)\n",
        "df.replace(valores_estado_civil,inplace=True)\n",
        "df.replace(valores_educacion,inplace=True)\n",
        "df.replace(valores_credito_sin_pago,inplace=True)\n",
        "df.replace(valores_prestamo_vivienda,inplace=True)\n",
        "df.replace(valores_prestamo_personal,inplace=True)\n",
        "df.replace(valores_contacto,inplace=True)\n",
        "df.replace(valores_mes,inplace=True)\n",
        "df.replace(valores_dia_semana,inplace=True)\n",
        "\n",
        "df"
      ],
      "execution_count": null,
      "outputs": []
    },
    {
      "cell_type": "code",
      "metadata": {
        "colab": {
          "base_uri": "https://localhost:8080/"
        },
        "id": "wlVYwn6owTwv",
        "outputId": "92686046-3085-43cc-95f9-0135e073406a"
      },
      "source": [
        "df.dtypes"
      ],
      "execution_count": null,
      "outputs": [
        {
          "output_type": "execute_result",
          "data": {
            "text/plain": [
              "edad                        int64\n",
              "trabajo                     int64\n",
              "estado_civil                int64\n",
              "educacion                   int64\n",
              "total_hijos                 int64\n",
              "credito_sin_pago            int64\n",
              "prestamo_vivienda           int64\n",
              "prestamo_personal           int64\n",
              "valor_prestamo              int64\n",
              "dias_ultimo_pago            int64\n",
              "tarjetas_credito            int64\n",
              "contacto                    int64\n",
              "mes                         int64\n",
              "dia_semana                  int64\n",
              "duracion_ultimo_contacto    int64\n",
              "dias_ultimo_contacto        int64\n",
              "anterior_contacto           int64\n",
              "numero_empleados            int64\n",
              "si_no                       int64\n",
              "dtype: object"
            ]
          },
          "metadata": {},
          "execution_count": 39
        }
      ]
    },
    {
      "cell_type": "markdown",
      "metadata": {
        "id": "Wm_tYstqwz0c"
      },
      "source": [
        "Nulos a 0"
      ]
    },
    {
      "cell_type": "code",
      "metadata": {
        "colab": {
          "base_uri": "https://localhost:8080/"
        },
        "id": "BHOX94wyw1wD",
        "outputId": "343266e7-f918-40c2-f75d-9c2520bef754"
      },
      "source": [
        "df.isna().sum()"
      ],
      "execution_count": null,
      "outputs": [
        {
          "output_type": "execute_result",
          "data": {
            "text/plain": [
              "edad                        0\n",
              "trabajo                     0\n",
              "estado_civil                0\n",
              "educacion                   0\n",
              "total_hijos                 0\n",
              "credito_sin_pago            0\n",
              "prestamo_vivienda           0\n",
              "prestamo_personal           0\n",
              "valor_prestamo              0\n",
              "dias_ultimo_pago            0\n",
              "tarjetas_credito            0\n",
              "contacto                    0\n",
              "mes                         0\n",
              "dia_semana                  0\n",
              "duracion_ultimo_contacto    0\n",
              "dias_ultimo_contacto        0\n",
              "anterior_contacto           0\n",
              "numero_empleados            0\n",
              "si_no                       0\n",
              "dtype: int64"
            ]
          },
          "metadata": {},
          "execution_count": 40
        }
      ]
    },
    {
      "cell_type": "markdown",
      "metadata": {
        "id": "SrOggMBD7Vyz"
      },
      "source": [
        "##Arbol y entrenamiento"
      ]
    },
    {
      "cell_type": "markdown",
      "metadata": {
        "id": "S3FDFTR7x-Fb"
      },
      "source": [
        "Instanciamos el arbol"
      ]
    },
    {
      "cell_type": "code",
      "metadata": {
        "id": "ffG32v_-x81M"
      },
      "source": [
        "arbol = DecisionTreeClassifier()"
      ],
      "execution_count": null,
      "outputs": []
    },
    {
      "cell_type": "markdown",
      "metadata": {
        "id": "Gfkjxs_6vZrc"
      },
      "source": [
        "Dividimos los datos(Train y test)"
      ]
    },
    {
      "cell_type": "code",
      "metadata": {
        "id": "BPopquhFyE2C"
      },
      "source": [
        "X = df.drop('si_no', axis=1)#Todos los datos menos si_no\n",
        "y = df.si_no\n",
        "#cambiamos la proporción de 70%-train y 30%-test\n",
        "X_train, X_test, y_train, y_test = train_test_split( X, y,test_size=0.3, random_state=42)\n"
      ],
      "execution_count": null,
      "outputs": []
    },
    {
      "cell_type": "markdown",
      "metadata": {
        "id": "oc35VHFYyWS0"
      },
      "source": [
        "Entrenamos"
      ]
    },
    {
      "cell_type": "code",
      "metadata": {
        "colab": {
          "base_uri": "https://localhost:8080/"
        },
        "id": "ScJ6064tyRtJ",
        "outputId": "18064837-397a-41eb-9e57-36e643e4f675"
      },
      "source": [
        "arbol.fit(X_train, y_train)"
      ],
      "execution_count": null,
      "outputs": [
        {
          "output_type": "execute_result",
          "data": {
            "text/plain": [
              "DecisionTreeClassifier(ccp_alpha=0.0, class_weight=None, criterion='gini',\n",
              "                       max_depth=None, max_features=None, max_leaf_nodes=None,\n",
              "                       min_impurity_decrease=0.0, min_impurity_split=None,\n",
              "                       min_samples_leaf=1, min_samples_split=2,\n",
              "                       min_weight_fraction_leaf=0.0, presort='deprecated',\n",
              "                       random_state=None, splitter='best')"
            ]
          },
          "metadata": {},
          "execution_count": 106
        }
      ]
    },
    {
      "cell_type": "markdown",
      "metadata": {
        "id": "j6_x898g3UsM"
      },
      "source": [
        "Graficamos para ver la profundidad\n"
      ]
    },
    {
      "cell_type": "code",
      "metadata": {
        "colab": {
          "base_uri": "https://localhost:8080/",
          "height": 279
        },
        "id": "Qk5EPtqv3Xn7",
        "outputId": "a70372db-0f48-4d17-cd7e-cde079396a2b"
      },
      "source": [
        "max_depth_lista = list(range(1, 10))\n",
        "# creamos un listado de resultados de exactitud \n",
        "accuracy = []\n",
        "for depth in max_depth_lista:\n",
        "    arbol_clasi = DecisionTreeClassifier(max_depth = depth, random_state = 0)\n",
        "    arbol_clasi.fit(X_train, y_train)\n",
        "    score = arbol_clasi.score(X_test, y_test)\n",
        "    accuracy.append(score)\n",
        "\n",
        "# Graficamos los resultados \n",
        "\n",
        "plt.plot(max_depth_lista,accuracy)\n",
        "plt.ylabel('Precision')\n",
        "plt.xlabel('Profundidad')\n",
        "plt.grid(True)\n",
        "plt.show()"
      ],
      "execution_count": null,
      "outputs": [
        {
          "output_type": "display_data",
          "data": {
            "image/png": "[encoded data removed]",
            "text/plain": [
              "<Figure size 432x288 with 1 Axes>"
            ]
          },
          "metadata": {
            "needs_background": "light"
          }
        }
      ]
    },
    {
      "cell_type": "markdown",
      "metadata": {
        "id": "1lKK8cHu44cd"
      },
      "source": [
        "###Hiper-parametros que ayudan a mejorar la creación de un árbol\n",
        "*   max_depth: la profundidad máxima del árbol. En los ejemplos anteriores hemos usado max_depth = 2\n",
        "*   min_samples_split: número mínimo de muestras necesarias antes de dividir este nodo. También se puede expresar en porcentaje.\n",
        "*   min_samples_leaf: número mínimo de muestras que debe haber en un nodo final (hoja). También se puede expresar en porcentaje.\n",
        "*   max_leaf_nodes: número máximo de nodos finales"
      ]
    },
    {
      "cell_type": "code",
      "metadata": {
        "colab": {
          "base_uri": "https://localhost:8080/"
        },
        "id": "Gsv0dLt73pt5",
        "outputId": "53054ca3-40cd-46da-c00e-e7e8f7a1b2e7"
      },
      "source": [
        "arbol_clasi = DecisionTreeClassifier(max_depth = 7, random_state = 0)\n",
        "\n",
        "arbol_clasi.fit(X_train, y_train)\n",
        "\n",
        "accuary = arbol_clasi.score(X_test, y_test)\n",
        "print(\"Precision: \"+str(accuary*100)+\" %\")"
      ],
      "execution_count": null,
      "outputs": [
        {
          "output_type": "stream",
          "name": "stdout",
          "text": [
            "Precision: 89.9571093307437 %\n"
          ]
        }
      ]
    },
    {
      "cell_type": "markdown",
      "metadata": {
        "id": "xKxTp8c2ybXg"
      },
      "source": [
        "Predicciones"
      ]
    },
    {
      "cell_type": "code",
      "metadata": {
        "colab": {
          "base_uri": "https://localhost:8080/"
        },
        "id": "mO1acxFuyY1U",
        "outputId": "9ebb0c96-90e1-45ce-9562-0d33c84cb3d1"
      },
      "source": [
        "# Predecimos sobre nuestro set de entrenamieto\n",
        "y_train_pred = arbol.predict(X_train)\n",
        "# Predecimos sobre nuestro set de test\n",
        "y_test_pred = arbol.predict(X_test)\n",
        "# Comaparamos con las etiquetas reales\n",
        "print('Accuracy sobre conjunto de Train:', accuracy_score(y_train_pred,y_train))\n",
        "print('Accuracy sobre conjunto de Test:', accuracy_score(y_test_pred,y_test))\n",
        "accuary_global = arbol.score(X_test, y_test)\n",
        "#Cuando el error de entrenamiento es mayor al del test es porque hay overfitting ( significa tener en cuenta demasiada información de sus datos y / o conocimientos previos)"
      ],
      "execution_count": null,
      "outputs": [
        {
          "output_type": "stream",
          "name": "stdout",
          "text": [
            "Accuracy sobre conjunto de Train: 1.0\n",
            "Accuracy sobre conjunto de Test: 0.8701141053653799\n"
          ]
        }
      ]
    },
    {
      "cell_type": "markdown",
      "metadata": {
        "id": "qUW0kSEX5BO3"
      },
      "source": [
        "Observamos las llaves "
      ]
    },
    {
      "cell_type": "code",
      "metadata": {
        "colab": {
          "base_uri": "https://localhost:8080/"
        },
        "id": "uM7670y_5Ety",
        "outputId": "b06083fa-e303-4633-8d15-2c09b956048e"
      },
      "source": [
        "X.keys()"
      ],
      "execution_count": null,
      "outputs": [
        {
          "output_type": "execute_result",
          "data": {
            "text/plain": [
              "Index(['edad', 'trabajo', 'estado_civil ', 'educacion', 'total_hijos',\n",
              "       'credito_sin_pago', 'prestamo_vivienda', 'prestamo_personal',\n",
              "       'valor_prestamo', 'dias_ultimo_pago', 'tarjetas_credito', 'contacto',\n",
              "       'mes', 'dia_semana', 'duracion_ultimo_contacto', 'dias_ultimo_contacto',\n",
              "       'anterior_contacto', 'numero_empleados'],\n",
              "      dtype='object')"
            ]
          },
          "metadata": {},
          "execution_count": 109
        }
      ]
    },
    {
      "cell_type": "markdown",
      "metadata": {
        "id": "MC8MfQ73zzdy"
      },
      "source": [
        "Generando el arbol"
      ]
    },
    {
      "cell_type": "code",
      "metadata": {
        "colab": {
          "base_uri": "https://localhost:8080/"
        },
        "id": "kz9Ew0v9z2-3",
        "outputId": "4eba4c69-89a5-4d81-b9e0-4e8b80481a38"
      },
      "source": [
        "#Instanciamos la lista de valores que toma el arbol\n",
        "class_names_list=list(['edad','trabajo','estado_civil ','educacion','total_hijos',\n",
        "                       'credito_sin_pago', 'prestamo_vivienda', 'prestamo_personal',\n",
        "                       'valor_prestamo', 'dias_ultimo_pago', 'tarjetas_credito', 'contacto',\n",
        "                       'mes', 'dia_semana', 'duracion_ultimo_contacto', 'dias_ultimo_contacto',\n",
        "                       'anterior_contacto', 'numero_empleados'])\n",
        "from sklearn.tree import export_graphviz\n",
        "from pydotplus import graph_from_dot_data\n",
        "dot_data = export_graphviz(arbol,feature_names=class_names_list, class_names=class_names_list)\n",
        "graph = graph_from_dot_data(dot_data)\n",
        "graph.write_png('arbol_1.png')\n",
        "#Lieral me dice que es gigante y que lo escalo a 0.260647 para que quedara todo en la imagen :("
      ],
      "execution_count": null,
      "outputs": [
        {
          "output_type": "stream",
          "name": "stdout",
          "text": [
            "dot: graph is too large for cairo-renderer bitmaps. Scaling by 0.27713 to fit\n",
            "\n"
          ]
        },
        {
          "output_type": "execute_result",
          "data": {
            "text/plain": [
              "True"
            ]
          },
          "metadata": {},
          "execution_count": 111
        }
      ]
    }
  ]
}