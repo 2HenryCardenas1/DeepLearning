{
  "nbformat": 4,
  "nbformat_minor": 0,
  "metadata": {
    "colab": {
      "name": "P1_trabajo_1er_corte.ipynb",
      "provenance": []
    },
    "kernelspec": {
      "name": "python3",
      "display_name": "Python 3"
    },
    "language_info": {
      "name": "python"
    }
  },
  "cells": [
    {
      "cell_type": "markdown",
      "metadata": {
        "id": "CO14eaeVgevk"
      },
      "source": [
        "#KMEANS EURO VS DOLAR"
      ]
    },
    {
      "cell_type": "markdown",
      "metadata": {
        "id": "xUGfhZj_goyd"
      },
      "source": [
        "##Instalamos estas dos librerias"
      ]
    },
    {
      "cell_type": "code",
      "metadata": {
        "colab": {
          "base_uri": "https://localhost:8080/"
        },
        "id": "1Ssi12ROCXyI",
        "outputId": "d908d48c-c7df-4b5f-b31e-35034e2d733b"
      },
      "source": [
        "!pip install fsspec\n",
        "!pip install beautifulsoup4 "
      ],
      "execution_count": 1,
      "outputs": [
        {
          "output_type": "stream",
          "name": "stdout",
          "text": [
            "Requirement already satisfied: fsspec in /usr/local/lib/python3.7/dist-packages (2021.9.0)\n",
            "Requirement already satisfied: beautifulsoup4 in /usr/local/lib/python3.7/dist-packages (4.6.3)\n"
          ]
        }
      ]
    },
    {
      "cell_type": "markdown",
      "metadata": {
        "id": "SHqE8tAfgtnv"
      },
      "source": [
        "##"
      ]
    },
    {
      "cell_type": "code",
      "metadata": {
        "id": "TpqlgN3iCsPN"
      },
      "source": [
        "import numpy as np\n",
        "import pandas as pd\n",
        "from sklearn.cluster import KMeans\n",
        "from sklearn import preprocessing  #para normalizar los datos antes de aplicar al algoritmo\n",
        "from sklearn.metrics import pairwise_distances_argmin_min\n",
        "\n",
        "import matplotlib.pyplot as plt\n",
        "import seaborn as sb\n",
        "from mpl_toolkits.mplot3d import Axes3D   #para graficas en 3D\n",
        "\n",
        "import requests                           # libreria para manejar pedidos internet\n",
        "from bs4 import BeautifulSoup             # libreria para parsear documentos HTML\n",
        "\n",
        "#from wikitables import import_tables    # para descargar tablas de Wikipedia\n",
        "from sklearn.decomposition import PCA   # Análisis de componentes principales (PCA).\n",
        "\n",
        "#configuraciones basicas para PLT\n",
        "%matplotlib inline\n",
        "plt.rcParams['figure.figsize'] = (16, 9)\n",
        "plt.style.use('ggplot')"
      ],
      "execution_count": 2,
      "outputs": []
    },
    {
      "cell_type": "markdown",
      "metadata": {
        "id": "_pZqNMAclcLU"
      },
      "source": [
        "##Importando el dataset"
      ]
    },
    {
      "cell_type": "code",
      "metadata": {
        "colab": {
          "base_uri": "https://localhost:8080/",
          "height": 0
        },
        "id": "Xufh2QIoCufN",
        "outputId": "1a4a8747-7f7a-4670-aa1e-7b2e822a967a"
      },
      "source": [
        "df = pd.read_csv(\"https://raw.githubusercontent.com/2HenryCardenas1/DeepLearning/main/Datasets/(EUR-USD).csv\")\n",
        "df.head()"
      ],
      "execution_count": 453,
      "outputs": [
        {
          "output_type": "execute_result",
          "data": {
            "text/html": [
              "<div>\n",
              "<style scoped>\n",
              "    .dataframe tbody tr th:only-of-type {\n",
              "        vertical-align: middle;\n",
              "    }\n",
              "\n",
              "    .dataframe tbody tr th {\n",
              "        vertical-align: top;\n",
              "    }\n",
              "\n",
              "    .dataframe thead th {\n",
              "        text-align: right;\n",
              "    }\n",
              "</style>\n",
              "<table border=\"1\" class=\"dataframe\">\n",
              "  <thead>\n",
              "    <tr style=\"text-align: right;\">\n",
              "      <th></th>\n",
              "      <th>Date</th>\n",
              "      <th>Open</th>\n",
              "      <th>High</th>\n",
              "      <th>Low</th>\n",
              "      <th>Close</th>\n",
              "      <th>Adj Close</th>\n",
              "      <th>Volume</th>\n",
              "    </tr>\n",
              "  </thead>\n",
              "  <tbody>\n",
              "    <tr>\n",
              "      <th>0</th>\n",
              "      <td>2004-07-30</td>\n",
              "      <td>1.203804</td>\n",
              "      <td>1.211607</td>\n",
              "      <td>1.200495</td>\n",
              "      <td>1.201605</td>\n",
              "      <td>1.201605</td>\n",
              "      <td>0.0</td>\n",
              "    </tr>\n",
              "    <tr>\n",
              "      <th>1</th>\n",
              "      <td>2004-08-02</td>\n",
              "      <td>1.204195</td>\n",
              "      <td>1.209395</td>\n",
              "      <td>1.201995</td>\n",
              "      <td>1.202198</td>\n",
              "      <td>1.202198</td>\n",
              "      <td>0.0</td>\n",
              "    </tr>\n",
              "    <tr>\n",
              "      <th>2</th>\n",
              "      <td>2004-08-03</td>\n",
              "      <td>1.202198</td>\n",
              "      <td>1.207802</td>\n",
              "      <td>1.200206</td>\n",
              "      <td>1.205298</td>\n",
              "      <td>1.205298</td>\n",
              "      <td>0.0</td>\n",
              "    </tr>\n",
              "    <tr>\n",
              "      <th>3</th>\n",
              "      <td>2004-08-04</td>\n",
              "      <td>1.205298</td>\n",
              "      <td>1.206593</td>\n",
              "      <td>1.197504</td>\n",
              "      <td>1.205996</td>\n",
              "      <td>1.205996</td>\n",
              "      <td>0.0</td>\n",
              "    </tr>\n",
              "    <tr>\n",
              "      <th>4</th>\n",
              "      <td>2004-08-05</td>\n",
              "      <td>1.205894</td>\n",
              "      <td>1.207496</td>\n",
              "      <td>1.202993</td>\n",
              "      <td>1.205197</td>\n",
              "      <td>1.205197</td>\n",
              "      <td>0.0</td>\n",
              "    </tr>\n",
              "  </tbody>\n",
              "</table>\n",
              "</div>"
            ],
            "text/plain": [
              "         Date      Open      High       Low     Close  Adj Close  Volume\n",
              "0  2004-07-30  1.203804  1.211607  1.200495  1.201605   1.201605     0.0\n",
              "1  2004-08-02  1.204195  1.209395  1.201995  1.202198   1.202198     0.0\n",
              "2  2004-08-03  1.202198  1.207802  1.200206  1.205298   1.205298     0.0\n",
              "3  2004-08-04  1.205298  1.206593  1.197504  1.205996   1.205996     0.0\n",
              "4  2004-08-05  1.205894  1.207496  1.202993  1.205197   1.205197     0.0"
            ]
          },
          "metadata": {},
          "execution_count": 453
        }
      ]
    },
    {
      "cell_type": "markdown",
      "metadata": {
        "id": "b9JFpB4C2Shq"
      },
      "source": [
        "#Observamos los datos del dataframe"
      ]
    },
    {
      "cell_type": "code",
      "metadata": {
        "colab": {
          "base_uri": "https://localhost:8080/"
        },
        "id": "povLa5mWTW9B",
        "outputId": "993793bd-2ae0-4614-84e5-69561535ea99"
      },
      "source": [
        "df.info()"
      ],
      "execution_count": 454,
      "outputs": [
        {
          "output_type": "stream",
          "name": "stdout",
          "text": [
            "<class 'pandas.core.frame.DataFrame'>\n",
            "RangeIndex: 4476 entries, 0 to 4475\n",
            "Data columns (total 7 columns):\n",
            " #   Column     Non-Null Count  Dtype  \n",
            "---  ------     --------------  -----  \n",
            " 0   Date       4476 non-null   object \n",
            " 1   Open       4427 non-null   float64\n",
            " 2   High       4427 non-null   float64\n",
            " 3   Low        4427 non-null   float64\n",
            " 4   Close      4427 non-null   float64\n",
            " 5   Adj Close  4427 non-null   float64\n",
            " 6   Volume     4427 non-null   float64\n",
            "dtypes: float64(6), object(1)\n",
            "memory usage: 244.9+ KB\n"
          ]
        }
      ]
    },
    {
      "cell_type": "code",
      "metadata": {
        "colab": {
          "base_uri": "https://localhost:8080/",
          "height": 297
        },
        "id": "zhxKkmF2Ta9F",
        "outputId": "da162326-8eb4-4f30-b310-a2b9e0489614"
      },
      "source": [
        "df.describe()"
      ],
      "execution_count": 455,
      "outputs": [
        {
          "output_type": "execute_result",
          "data": {
            "text/html": [
              "<div>\n",
              "<style scoped>\n",
              "    .dataframe tbody tr th:only-of-type {\n",
              "        vertical-align: middle;\n",
              "    }\n",
              "\n",
              "    .dataframe tbody tr th {\n",
              "        vertical-align: top;\n",
              "    }\n",
              "\n",
              "    .dataframe thead th {\n",
              "        text-align: right;\n",
              "    }\n",
              "</style>\n",
              "<table border=\"1\" class=\"dataframe\">\n",
              "  <thead>\n",
              "    <tr style=\"text-align: right;\">\n",
              "      <th></th>\n",
              "      <th>Open</th>\n",
              "      <th>High</th>\n",
              "      <th>Low</th>\n",
              "      <th>Close</th>\n",
              "      <th>Adj Close</th>\n",
              "      <th>Volume</th>\n",
              "    </tr>\n",
              "  </thead>\n",
              "  <tbody>\n",
              "    <tr>\n",
              "      <th>count</th>\n",
              "      <td>4427.000000</td>\n",
              "      <td>4427.000000</td>\n",
              "      <td>4427.000000</td>\n",
              "      <td>4427.000000</td>\n",
              "      <td>4427.000000</td>\n",
              "      <td>4427.0</td>\n",
              "    </tr>\n",
              "    <tr>\n",
              "      <th>mean</th>\n",
              "      <td>1.258977</td>\n",
              "      <td>1.263661</td>\n",
              "      <td>1.253837</td>\n",
              "      <td>1.259005</td>\n",
              "      <td>1.259005</td>\n",
              "      <td>0.0</td>\n",
              "    </tr>\n",
              "    <tr>\n",
              "      <th>std</th>\n",
              "      <td>0.121000</td>\n",
              "      <td>0.121761</td>\n",
              "      <td>0.121624</td>\n",
              "      <td>0.120990</td>\n",
              "      <td>0.120990</td>\n",
              "      <td>0.0</td>\n",
              "    </tr>\n",
              "    <tr>\n",
              "      <th>min</th>\n",
              "      <td>1.039393</td>\n",
              "      <td>1.041992</td>\n",
              "      <td>0.072902</td>\n",
              "      <td>1.039047</td>\n",
              "      <td>1.039047</td>\n",
              "      <td>0.0</td>\n",
              "    </tr>\n",
              "    <tr>\n",
              "      <th>25%</th>\n",
              "      <td>1.155822</td>\n",
              "      <td>1.160732</td>\n",
              "      <td>1.151423</td>\n",
              "      <td>1.155956</td>\n",
              "      <td>1.155956</td>\n",
              "      <td>0.0</td>\n",
              "    </tr>\n",
              "    <tr>\n",
              "      <th>50%</th>\n",
              "      <td>1.258400</td>\n",
              "      <td>1.264095</td>\n",
              "      <td>1.252803</td>\n",
              "      <td>1.258606</td>\n",
              "      <td>1.258606</td>\n",
              "      <td>0.0</td>\n",
              "    </tr>\n",
              "    <tr>\n",
              "      <th>75%</th>\n",
              "      <td>1.345497</td>\n",
              "      <td>1.350749</td>\n",
              "      <td>1.340799</td>\n",
              "      <td>1.345497</td>\n",
              "      <td>1.345497</td>\n",
              "      <td>0.0</td>\n",
              "    </tr>\n",
              "    <tr>\n",
              "      <th>max</th>\n",
              "      <td>1.598184</td>\n",
              "      <td>1.602821</td>\n",
              "      <td>1.587402</td>\n",
              "      <td>1.598798</td>\n",
              "      <td>1.598798</td>\n",
              "      <td>0.0</td>\n",
              "    </tr>\n",
              "  </tbody>\n",
              "</table>\n",
              "</div>"
            ],
            "text/plain": [
              "              Open         High          Low        Close    Adj Close  Volume\n",
              "count  4427.000000  4427.000000  4427.000000  4427.000000  4427.000000  4427.0\n",
              "mean      1.258977     1.263661     1.253837     1.259005     1.259005     0.0\n",
              "std       0.121000     0.121761     0.121624     0.120990     0.120990     0.0\n",
              "min       1.039393     1.041992     0.072902     1.039047     1.039047     0.0\n",
              "25%       1.155822     1.160732     1.151423     1.155956     1.155956     0.0\n",
              "50%       1.258400     1.264095     1.252803     1.258606     1.258606     0.0\n",
              "75%       1.345497     1.350749     1.340799     1.345497     1.345497     0.0\n",
              "max       1.598184     1.602821     1.587402     1.598798     1.598798     0.0"
            ]
          },
          "metadata": {},
          "execution_count": 455
        }
      ]
    },
    {
      "cell_type": "code",
      "metadata": {
        "colab": {
          "base_uri": "https://localhost:8080/"
        },
        "id": "8gChulAfTdWb",
        "outputId": "d6b97630-1971-4efe-e7b1-8b95bd968394"
      },
      "source": [
        "df.isnull().sum()"
      ],
      "execution_count": 456,
      "outputs": [
        {
          "output_type": "execute_result",
          "data": {
            "text/plain": [
              "Date          0\n",
              "Open         49\n",
              "High         49\n",
              "Low          49\n",
              "Close        49\n",
              "Adj Close    49\n",
              "Volume       49\n",
              "dtype: int64"
            ]
          },
          "metadata": {},
          "execution_count": 456
        }
      ]
    },
    {
      "cell_type": "markdown",
      "metadata": {
        "id": "A-rsdPgL2Zoi"
      },
      "source": [
        "##Eliminamos y reseteamos el dataframe"
      ]
    },
    {
      "cell_type": "code",
      "metadata": {
        "id": "ABcy2fxMNUBr"
      },
      "source": [
        "df = df.dropna()   # Se eliminan filas que tengan valor NaN.\n",
        "df = df.reset_index(drop=True) #Se reacomoda las filas en los espacios vacios para optimizacion de la memoria"
      ],
      "execution_count": 457,
      "outputs": []
    },
    {
      "cell_type": "markdown",
      "metadata": {
        "id": "odRHzNVc2hQU"
      },
      "source": [
        "###Cambiamos el Date a tipo de dato \"date\""
      ]
    },
    {
      "cell_type": "code",
      "metadata": {
        "id": "ue-wdWJGPNqe"
      },
      "source": [
        "df['Date']=pd.to_datetime(df['Date'])  "
      ],
      "execution_count": 458,
      "outputs": []
    },
    {
      "cell_type": "markdown",
      "metadata": {
        "id": "H34ARxVT2mvT"
      },
      "source": [
        "###Verificamos los cambios"
      ]
    },
    {
      "cell_type": "code",
      "metadata": {
        "colab": {
          "base_uri": "https://localhost:8080/"
        },
        "id": "_mmvvty8UNAK",
        "outputId": "52b9a07d-cea4-4999-bbe0-4dfbff1dd15d"
      },
      "source": [
        "df.info()"
      ],
      "execution_count": 459,
      "outputs": [
        {
          "output_type": "stream",
          "name": "stdout",
          "text": [
            "<class 'pandas.core.frame.DataFrame'>\n",
            "RangeIndex: 4427 entries, 0 to 4426\n",
            "Data columns (total 7 columns):\n",
            " #   Column     Non-Null Count  Dtype         \n",
            "---  ------     --------------  -----         \n",
            " 0   Date       4427 non-null   datetime64[ns]\n",
            " 1   Open       4427 non-null   float64       \n",
            " 2   High       4427 non-null   float64       \n",
            " 3   Low        4427 non-null   float64       \n",
            " 4   Close      4427 non-null   float64       \n",
            " 5   Adj Close  4427 non-null   float64       \n",
            " 6   Volume     4427 non-null   float64       \n",
            "dtypes: datetime64[ns](1), float64(6)\n",
            "memory usage: 242.2 KB\n"
          ]
        }
      ]
    },
    {
      "cell_type": "code",
      "metadata": {
        "colab": {
          "base_uri": "https://localhost:8080/"
        },
        "id": "hbAvETznUP4V",
        "outputId": "7cf39a50-fa71-4706-bfe3-c449fa44f9e1"
      },
      "source": [
        "df.isnull().sum()"
      ],
      "execution_count": 460,
      "outputs": [
        {
          "output_type": "execute_result",
          "data": {
            "text/plain": [
              "Date         0\n",
              "Open         0\n",
              "High         0\n",
              "Low          0\n",
              "Close        0\n",
              "Adj Close    0\n",
              "Volume       0\n",
              "dtype: int64"
            ]
          },
          "metadata": {},
          "execution_count": 460
        }
      ]
    },
    {
      "cell_type": "markdown",
      "metadata": {
        "id": "v6Bv_Pbe2pgL"
      },
      "source": [
        "##Definimos las variables a usar"
      ]
    },
    {
      "cell_type": "code",
      "metadata": {
        "colab": {
          "base_uri": "https://localhost:8080/",
          "height": 359
        },
        "id": "yD4JwwndNlrv",
        "outputId": "e5c777f2-7ffd-4c6c-ab71-74093ff68402"
      },
      "source": [
        "df = df[['Date', 'Open', 'Close']]\n",
        "df.head(10)"
      ],
      "execution_count": 461,
      "outputs": [
        {
          "output_type": "execute_result",
          "data": {
            "text/html": [
              "<div>\n",
              "<style scoped>\n",
              "    .dataframe tbody tr th:only-of-type {\n",
              "        vertical-align: middle;\n",
              "    }\n",
              "\n",
              "    .dataframe tbody tr th {\n",
              "        vertical-align: top;\n",
              "    }\n",
              "\n",
              "    .dataframe thead th {\n",
              "        text-align: right;\n",
              "    }\n",
              "</style>\n",
              "<table border=\"1\" class=\"dataframe\">\n",
              "  <thead>\n",
              "    <tr style=\"text-align: right;\">\n",
              "      <th></th>\n",
              "      <th>Date</th>\n",
              "      <th>Open</th>\n",
              "      <th>Close</th>\n",
              "    </tr>\n",
              "  </thead>\n",
              "  <tbody>\n",
              "    <tr>\n",
              "      <th>0</th>\n",
              "      <td>2004-07-30</td>\n",
              "      <td>1.203804</td>\n",
              "      <td>1.201605</td>\n",
              "    </tr>\n",
              "    <tr>\n",
              "      <th>1</th>\n",
              "      <td>2004-08-02</td>\n",
              "      <td>1.204195</td>\n",
              "      <td>1.202198</td>\n",
              "    </tr>\n",
              "    <tr>\n",
              "      <th>2</th>\n",
              "      <td>2004-08-03</td>\n",
              "      <td>1.202198</td>\n",
              "      <td>1.205298</td>\n",
              "    </tr>\n",
              "    <tr>\n",
              "      <th>3</th>\n",
              "      <td>2004-08-04</td>\n",
              "      <td>1.205298</td>\n",
              "      <td>1.205996</td>\n",
              "    </tr>\n",
              "    <tr>\n",
              "      <th>4</th>\n",
              "      <td>2004-08-05</td>\n",
              "      <td>1.205894</td>\n",
              "      <td>1.205197</td>\n",
              "    </tr>\n",
              "    <tr>\n",
              "      <th>5</th>\n",
              "      <td>2004-08-06</td>\n",
              "      <td>1.205705</td>\n",
              "      <td>1.230800</td>\n",
              "    </tr>\n",
              "    <tr>\n",
              "      <th>6</th>\n",
              "      <td>2004-08-09</td>\n",
              "      <td>1.226994</td>\n",
              "      <td>1.227295</td>\n",
              "    </tr>\n",
              "    <tr>\n",
              "      <th>7</th>\n",
              "      <td>2004-08-10</td>\n",
              "      <td>1.227807</td>\n",
              "      <td>1.223601</td>\n",
              "    </tr>\n",
              "    <tr>\n",
              "      <th>8</th>\n",
              "      <td>2004-08-11</td>\n",
              "      <td>1.223795</td>\n",
              "      <td>1.222195</td>\n",
              "    </tr>\n",
              "    <tr>\n",
              "      <th>9</th>\n",
              "      <td>2004-08-12</td>\n",
              "      <td>1.222195</td>\n",
              "      <td>1.223900</td>\n",
              "    </tr>\n",
              "  </tbody>\n",
              "</table>\n",
              "</div>"
            ],
            "text/plain": [
              "        Date      Open     Close\n",
              "0 2004-07-30  1.203804  1.201605\n",
              "1 2004-08-02  1.204195  1.202198\n",
              "2 2004-08-03  1.202198  1.205298\n",
              "3 2004-08-04  1.205298  1.205996\n",
              "4 2004-08-05  1.205894  1.205197\n",
              "5 2004-08-06  1.205705  1.230800\n",
              "6 2004-08-09  1.226994  1.227295\n",
              "7 2004-08-10  1.227807  1.223601\n",
              "8 2004-08-11  1.223795  1.222195\n",
              "9 2004-08-12  1.222195  1.223900"
            ]
          },
          "metadata": {},
          "execution_count": 461
        }
      ]
    },
    {
      "cell_type": "markdown",
      "metadata": {
        "id": "dYvH0LHh2ubk"
      },
      "source": [
        "###Realizamos el resample \n",
        "\n",
        "---\n",
        "\n",
        "https://stackoverflow.com/questions/57703538/typeerror-only-valid-with-datetimeindex-timedeltaindex-or-periodindex-but-got"
      ]
    },
    {
      "cell_type": "code",
      "metadata": {
        "id": "Ve_kte7lNuQR"
      },
      "source": [
        "#linea tomada de stackOverflow \n",
        "weekly_summary = df.resample('W', on='Date').sum()"
      ],
      "execution_count": 462,
      "outputs": []
    },
    {
      "cell_type": "code",
      "metadata": {
        "colab": {
          "base_uri": "https://localhost:8080/"
        },
        "id": "mGeyUUWo1-a2",
        "outputId": "380302dd-11ca-442b-8f37-21718c3fbb7d"
      },
      "source": [
        "weekly_summary.head"
      ],
      "execution_count": 463,
      "outputs": [
        {
          "output_type": "execute_result",
          "data": {
            "text/plain": [
              "<bound method NDFrame.head of                 Open     Close\n",
              "Date                          \n",
              "2004-08-01  1.203804  1.201605\n",
              "2004-08-08  6.023290  6.049489\n",
              "2004-08-15  6.124796  6.134584\n",
              "2004-08-22  6.180098  6.173796\n",
              "2004-08-29  6.072298  6.043903\n",
              "...              ...       ...\n",
              "2021-08-29  5.872746  5.872598\n",
              "2021-09-05  5.912787  5.912358\n",
              "2021-09-12  5.924930  5.924960\n",
              "2021-09-19  5.901099  5.901635\n",
              "2021-09-26  5.861129  5.861101\n",
              "\n",
              "[896 rows x 2 columns]>"
            ]
          },
          "metadata": {},
          "execution_count": 463
        }
      ]
    },
    {
      "cell_type": "markdown",
      "metadata": {
        "id": "yJBJ__zO3IpC"
      },
      "source": [
        "###Creamos el metodo para graficar"
      ]
    },
    {
      "cell_type": "code",
      "metadata": {
        "id": "9NXNq8nUpkRY"
      },
      "source": [
        "def plot_stock(symbol, df_acciones=weekly_summary):\n",
        "    df_acciones[symbol].plot(alpha=0.9);"
      ],
      "execution_count": 464,
      "outputs": []
    },
    {
      "cell_type": "markdown",
      "metadata": {
        "id": "Bdrz-W163L7u"
      },
      "source": [
        "###Graficamos"
      ]
    },
    {
      "cell_type": "code",
      "metadata": {
        "colab": {
          "base_uri": "https://localhost:8080/",
          "height": 571
        },
        "id": "hQhcMztUpo1I",
        "outputId": "3301cfbd-0433-426e-c3bc-5757c89d4e5e"
      },
      "source": [
        "#Valor y cierre de las acciones\n",
        "plot_stock('Open')#Open\n",
        "plot_stock('Close')#Close\n",
        "plt.title('Valores de apertura y de cierre de la accione')\n",
        "plt.legend();"
      ],
      "execution_count": 465,
      "outputs": [
        {
          "output_type": "display_data",
          "data": {
            "image/png": "[encoded data removed]",
            "text/plain": [
              "<Figure size 1152x648 with 1 Axes>"
            ]
          },
          "metadata": {}
        }
      ]
    },
    {
      "cell_type": "markdown",
      "metadata": {
        "id": "cBw8xsaF3QPJ"
      },
      "source": [
        "#Implementando KMEANS"
      ]
    },
    {
      "cell_type": "markdown",
      "metadata": {
        "id": "WsjM3TDM4mGv"
      },
      "source": [
        "##Normalizamos los datos"
      ]
    },
    {
      "cell_type": "markdown",
      "metadata": {
        "id": "9OcsfG2J45Sf"
      },
      "source": [
        "###Elimando datos nulos"
      ]
    },
    {
      "cell_type": "code",
      "metadata": {
        "id": "FYMR-uY-48hb"
      },
      "source": [
        "df = df.dropna()\n",
        "df = df.reset_index(drop=True)"
      ],
      "execution_count": 466,
      "outputs": []
    },
    {
      "cell_type": "code",
      "metadata": {
        "id": "NgDnMNqP5A3l"
      },
      "source": [
        "# Eliminamos columna de fecha que no usaremos en el algoritmo.\n",
        "dates = df['Date'] # Guardamos la columna Date.\n",
        "df = df.drop('Date', 1) # Borramos la columna del dataframe."
      ],
      "execution_count": 467,
      "outputs": []
    },
    {
      "cell_type": "code",
      "metadata": {
        "id": "n28IVqvC4ouP"
      },
      "source": [
        "#%% Se normalizan los datos con MinMax()\n",
        "min_max_scaler = preprocessing.MinMaxScaler() \n",
        "df_escalado = min_max_scaler.fit_transform(df)\n",
        "df_escalado = pd.DataFrame(df_escalado) # Hay que convertir a DF el resultado.\n",
        "df_escalado = df_escalado.rename(columns = {0: 'Open', 1: 'Close', 2: 'High', 3: 'Low'})"
      ],
      "execution_count": 468,
      "outputs": []
    },
    {
      "cell_type": "code",
      "metadata": {
        "colab": {
          "base_uri": "https://localhost:8080/"
        },
        "id": "LH3zukNo5qG-",
        "outputId": "7b797796-1095-4ef3-e5eb-c3846ff786ac"
      },
      "source": [
        "df_escalado.head()\n",
        "df_escalado.isnull().sum()"
      ],
      "execution_count": 469,
      "outputs": [
        {
          "output_type": "execute_result",
          "data": {
            "text/plain": [
              "Open     0\n",
              "Close    0\n",
              "dtype: int64"
            ]
          },
          "metadata": {},
          "execution_count": 469
        }
      ]
    },
    {
      "cell_type": "markdown",
      "metadata": {
        "id": "6ymn7WVu32jv"
      },
      "source": [
        "##Representacion de los datos"
      ]
    },
    {
      "cell_type": "code",
      "metadata": {
        "colab": {
          "base_uri": "https://localhost:8080/",
          "height": 588
        },
        "id": "Af1r6Rpi35Sf",
        "outputId": "f0f4ba2b-2e14-49d1-d287-d0850c013ff2"
      },
      "source": [
        "#%% Representación gráfica de los datos.\n",
        "x = df['Open'].values\n",
        "y = df['Close'].values\n",
        "plt.xlabel('Open')\n",
        "plt.ylabel('Close')\n",
        "plt.title('Open vs. Close')\n",
        "plt.plot(x,y,'o',markersize=1)"
      ],
      "execution_count": 471,
      "outputs": [
        {
          "output_type": "execute_result",
          "data": {
            "text/plain": [
              "[<matplotlib.lines.Line2D at 0x7f1d0ef73350>]"
            ]
          },
          "metadata": {},
          "execution_count": 471
        },
        {
          "output_type": "display_data",
          "data": {
            "image/png": "[encoded data removed]",
            "text/plain": [
              "<Figure size 1152x648 with 1 Axes>"
            ]
          },
          "metadata": {}
        }
      ]
    },
    {
      "cell_type": "markdown",
      "metadata": {
        "id": "TgA8VBrk4RyY"
      },
      "source": [
        "###Buscando el número de clústeres optimo"
      ]
    },
    {
      "cell_type": "code",
      "metadata": {
        "colab": {
          "base_uri": "https://localhost:8080/",
          "height": 571
        },
        "id": "aLgSR_yc4V-x",
        "outputId": "931b0b5a-23e4-4c0c-9efa-5b2cfec179fe"
      },
      "source": [
        "#%% Curva elbow para determinar valor óptimo de k.\n",
        "nc = range(1, 30) # El número de iteraciones que queremos hacer.\n",
        "kmeans = [KMeans(n_clusters=i) for i in nc]\n",
        "score = [kmeans[i].fit(df_escalado).score(df_escalado) for i in range(len(kmeans))]\n",
        "score\n",
        "plt.xlabel('Número de clústeres (k)')\n",
        "plt.ylabel('Suma de los errores cuadráticos')\n",
        "plt.plot(nc,score)"
      ],
      "execution_count": 472,
      "outputs": [
        {
          "output_type": "execute_result",
          "data": {
            "text/plain": [
              "[<matplotlib.lines.Line2D at 0x7f1d0eb6d210>]"
            ]
          },
          "metadata": {},
          "execution_count": 472
        },
        {
          "output_type": "display_data",
          "data": {
            "image/png": "[encoded data removed]",
            "text/plain": [
              "<Figure size 1152x648 with 1 Axes>"
            ]
          },
          "metadata": {}
        }
      ]
    },
    {
      "cell_type": "markdown",
      "metadata": {
        "id": "6h1l3sOc6CLw"
      },
      "source": [
        "###Aplicamos el algoritmo de kmean"
      ]
    },
    {
      "cell_type": "code",
      "metadata": {
        "colab": {
          "base_uri": "https://localhost:8080/"
        },
        "id": "iezLgZUW5-Mr",
        "outputId": "cab4e883-fca3-4c03-a625-e696e2842638"
      },
      "source": [
        "#%% Aplicación de k-means con k = 5.\n",
        "kmeans = KMeans(n_clusters=5).fit(df_escalado)\n",
        "centroids = kmeans.cluster_centers_\n",
        "print(centroids)   "
      ],
      "execution_count": 473,
      "outputs": [
        {
          "output_type": "stream",
          "name": "stdout",
          "text": [
            "[[0.12509414 0.12554238]\n",
            " [0.59275112 0.59223458]\n",
            " [0.28762683 0.28786904]\n",
            " [0.80683776 0.80607394]\n",
            " [0.45376828 0.45375777]]\n"
          ]
        }
      ]
    },
    {
      "cell_type": "markdown",
      "metadata": {
        "id": "fosS5u7k6UMQ"
      },
      "source": [
        "##Creamos nuestras etiquetas"
      ]
    },
    {
      "cell_type": "code",
      "metadata": {
        "id": "v9AavdS96KTn"
      },
      "source": [
        "labels = kmeans.predict(df_escalado)   #generamos las etiquetas de cada clouster\n",
        "df['label'] = labels                   \n",
        "\n",
        "df.insert(0, 'Date', dates)           "
      ],
      "execution_count": 474,
      "outputs": []
    },
    {
      "cell_type": "code",
      "metadata": {
        "colab": {
          "base_uri": "https://localhost:8080/",
          "height": 359
        },
        "id": "H8-vMxd26z0b",
        "outputId": "8c34cd49-2355-41f2-a4e1-dbbd815dc507"
      },
      "source": [
        "df.head(10)"
      ],
      "execution_count": 475,
      "outputs": [
        {
          "output_type": "execute_result",
          "data": {
            "text/html": [
              "<div>\n",
              "<style scoped>\n",
              "    .dataframe tbody tr th:only-of-type {\n",
              "        vertical-align: middle;\n",
              "    }\n",
              "\n",
              "    .dataframe tbody tr th {\n",
              "        vertical-align: top;\n",
              "    }\n",
              "\n",
              "    .dataframe thead th {\n",
              "        text-align: right;\n",
              "    }\n",
              "</style>\n",
              "<table border=\"1\" class=\"dataframe\">\n",
              "  <thead>\n",
              "    <tr style=\"text-align: right;\">\n",
              "      <th></th>\n",
              "      <th>Date</th>\n",
              "      <th>Open</th>\n",
              "      <th>Close</th>\n",
              "      <th>label</th>\n",
              "    </tr>\n",
              "  </thead>\n",
              "  <tbody>\n",
              "    <tr>\n",
              "      <th>0</th>\n",
              "      <td>2004-07-30</td>\n",
              "      <td>1.203804</td>\n",
              "      <td>1.201605</td>\n",
              "      <td>2</td>\n",
              "    </tr>\n",
              "    <tr>\n",
              "      <th>1</th>\n",
              "      <td>2004-08-02</td>\n",
              "      <td>1.204195</td>\n",
              "      <td>1.202198</td>\n",
              "      <td>2</td>\n",
              "    </tr>\n",
              "    <tr>\n",
              "      <th>2</th>\n",
              "      <td>2004-08-03</td>\n",
              "      <td>1.202198</td>\n",
              "      <td>1.205298</td>\n",
              "      <td>2</td>\n",
              "    </tr>\n",
              "    <tr>\n",
              "      <th>3</th>\n",
              "      <td>2004-08-04</td>\n",
              "      <td>1.205298</td>\n",
              "      <td>1.205996</td>\n",
              "      <td>2</td>\n",
              "    </tr>\n",
              "    <tr>\n",
              "      <th>4</th>\n",
              "      <td>2004-08-05</td>\n",
              "      <td>1.205894</td>\n",
              "      <td>1.205197</td>\n",
              "      <td>2</td>\n",
              "    </tr>\n",
              "    <tr>\n",
              "      <th>5</th>\n",
              "      <td>2004-08-06</td>\n",
              "      <td>1.205705</td>\n",
              "      <td>1.230800</td>\n",
              "      <td>2</td>\n",
              "    </tr>\n",
              "    <tr>\n",
              "      <th>6</th>\n",
              "      <td>2004-08-09</td>\n",
              "      <td>1.226994</td>\n",
              "      <td>1.227295</td>\n",
              "      <td>2</td>\n",
              "    </tr>\n",
              "    <tr>\n",
              "      <th>7</th>\n",
              "      <td>2004-08-10</td>\n",
              "      <td>1.227807</td>\n",
              "      <td>1.223601</td>\n",
              "      <td>2</td>\n",
              "    </tr>\n",
              "    <tr>\n",
              "      <th>8</th>\n",
              "      <td>2004-08-11</td>\n",
              "      <td>1.223795</td>\n",
              "      <td>1.222195</td>\n",
              "      <td>2</td>\n",
              "    </tr>\n",
              "    <tr>\n",
              "      <th>9</th>\n",
              "      <td>2004-08-12</td>\n",
              "      <td>1.222195</td>\n",
              "      <td>1.223900</td>\n",
              "      <td>2</td>\n",
              "    </tr>\n",
              "  </tbody>\n",
              "</table>\n",
              "</div>"
            ],
            "text/plain": [
              "        Date      Open     Close  label\n",
              "0 2004-07-30  1.203804  1.201605      2\n",
              "1 2004-08-02  1.204195  1.202198      2\n",
              "2 2004-08-03  1.202198  1.205298      2\n",
              "3 2004-08-04  1.205298  1.205996      2\n",
              "4 2004-08-05  1.205894  1.205197      2\n",
              "5 2004-08-06  1.205705  1.230800      2\n",
              "6 2004-08-09  1.226994  1.227295      2\n",
              "7 2004-08-10  1.227807  1.223601      2\n",
              "8 2004-08-11  1.223795  1.222195      2\n",
              "9 2004-08-12  1.222195  1.223900      2"
            ]
          },
          "metadata": {},
          "execution_count": 475
        }
      ]
    },
    {
      "cell_type": "markdown",
      "metadata": {
        "id": "hclagd-0642x"
      },
      "source": [
        "##Representación gráfica de los clústeres k-means"
      ]
    },
    {
      "cell_type": "code",
      "metadata": {
        "colab": {
          "base_uri": "https://localhost:8080/",
          "height": 571
        },
        "id": "JD4SbmEi66yD",
        "outputId": "013aea0f-92ba-456d-e9eb-be788e2816fe"
      },
      "source": [
        "#%% Plot k-means clustering.\n",
        "colores=['red','green','blue','yellow','fuchsia']\n",
        "asignar=[]\n",
        "for row in labels:\n",
        "     asignar.append(colores[row])\n",
        "plt.scatter(x, y, c=asignar, s=1)\n",
        "plt.scatter(centroids[:, 0], centroids[:, 1], marker='+', c='black', s=20) # Marco centroides.\n",
        "plt.xlabel('Open')\n",
        "plt.ylabel('Close')\n",
        "plt.title('EUR/USD k-means clustering')\n",
        "plt.show()"
      ],
      "execution_count": 476,
      "outputs": [
        {
          "output_type": "display_data",
          "data": {
            "image/png": "[encoded data removed]",
            "text/plain": [
              "<Figure size 1152x648 with 1 Axes>"
            ]
          },
          "metadata": {}
        }
      ]
    },
    {
      "cell_type": "markdown",
      "metadata": {
        "id": "WugUuYPS73th"
      },
      "source": [
        "##Grupos y centroides"
      ]
    },
    {
      "cell_type": "code",
      "metadata": {
        "id": "2SsR99jW8Qe3"
      },
      "source": [
        "# Getting the cluster centers\n",
        "C = kmeans.cluster_centers_\n",
        "colores=['blue','red','green','yellow','cyan']\n",
        "asignar=[]\n",
        "for row in labels:\n",
        "    asignar.append(colores[row])"
      ],
      "execution_count": 477,
      "outputs": []
    },
    {
      "cell_type": "code",
      "metadata": {
        "id": "jbPIfsDs76Mj"
      },
      "source": [
        "f1 = df['Open'].values\n",
        "f2 = df['Close'].values\n"
      ],
      "execution_count": 480,
      "outputs": []
    },
    {
      "cell_type": "markdown",
      "metadata": {
        "id": "PrTQsXXy97nC"
      },
      "source": [
        "###Graficas"
      ]
    },
    {
      "cell_type": "markdown",
      "metadata": {
        "id": "Ec7MgM7v9-uz"
      },
      "source": [
        "###Open en X y Close en Y"
      ]
    },
    {
      "cell_type": "code",
      "metadata": {
        "colab": {
          "base_uri": "https://localhost:8080/",
          "height": 537
        },
        "id": "zItvxBx_8G5B",
        "outputId": "69a8ce7a-26ae-42a0-e0d2-168cb3ed6310"
      },
      "source": [
        "plt.scatter(f1, f2, c=asignar, s=70)\n",
        "plt.scatter(C[:, 0], C[:, 1], marker='*', c=colores, s=1000)\n",
        "plt.show()"
      ],
      "execution_count": 481,
      "outputs": [
        {
          "output_type": "display_data",
          "data": {
            "image/png": "[encoded data removed]",
            "text/plain": [
              "<Figure size 1152x648 with 1 Axes>"
            ]
          },
          "metadata": {}
        }
      ]
    },
    {
      "cell_type": "markdown",
      "metadata": {
        "id": "8W6mUKws-Eum"
      },
      "source": [
        "###Close en X y Open en Y "
      ]
    },
    {
      "cell_type": "code",
      "metadata": {
        "colab": {
          "base_uri": "https://localhost:8080/",
          "height": 537
        },
        "id": "Mc5PRwHd-Jyq",
        "outputId": "e64816cb-13da-408f-8778-1b9e9a66ac56"
      },
      "source": [
        "plt.scatter(f2, f1, c=asignar, s=70)\n",
        "plt.scatter(C[:, 0], C[:, 1], marker='*', c=colores, s=1000)\n",
        "plt.show()"
      ],
      "execution_count": 482,
      "outputs": [
        {
          "output_type": "display_data",
          "data": {
            "image/png": "[encoded data removed]",
            "text/plain": [
              "<Figure size 1152x648 with 1 Axes>"
            ]
          },
          "metadata": {}
        }
      ]
    },
    {
      "cell_type": "code",
      "metadata": {
        "colab": {
          "base_uri": "https://localhost:8080/",
          "height": 204
        },
        "id": "Ca9k15X8-ffF",
        "outputId": "2fb61e8c-c04a-4ec9-e9e1-c8f6b0c7d678"
      },
      "source": [
        "copy =  pd.DataFrame()\n",
        "copy['Open']=df['Open'].values\n",
        "copy['Close']=df['Close'].values\n",
        "copy['label'] = labels;\n",
        "cantidadGrupo =  pd.DataFrame()\n",
        "cantidadGrupo['color']=colores\n",
        "cantidadGrupo['cantidad']=copy.groupby('label').size()\n",
        "cantidadGrupo"
      ],
      "execution_count": 483,
      "outputs": [
        {
          "output_type": "execute_result",
          "data": {
            "text/html": [
              "<div>\n",
              "<style scoped>\n",
              "    .dataframe tbody tr th:only-of-type {\n",
              "        vertical-align: middle;\n",
              "    }\n",
              "\n",
              "    .dataframe tbody tr th {\n",
              "        vertical-align: top;\n",
              "    }\n",
              "\n",
              "    .dataframe thead th {\n",
              "        text-align: right;\n",
              "    }\n",
              "</style>\n",
              "<table border=\"1\" class=\"dataframe\">\n",
              "  <thead>\n",
              "    <tr style=\"text-align: right;\">\n",
              "      <th></th>\n",
              "      <th>color</th>\n",
              "      <th>cantidad</th>\n",
              "    </tr>\n",
              "  </thead>\n",
              "  <tbody>\n",
              "    <tr>\n",
              "      <th>0</th>\n",
              "      <td>blue</td>\n",
              "      <td>1101</td>\n",
              "    </tr>\n",
              "    <tr>\n",
              "      <th>1</th>\n",
              "      <td>red</td>\n",
              "      <td>900</td>\n",
              "    </tr>\n",
              "    <tr>\n",
              "      <th>2</th>\n",
              "      <td>green</td>\n",
              "      <td>1019</td>\n",
              "    </tr>\n",
              "    <tr>\n",
              "      <th>3</th>\n",
              "      <td>yellow</td>\n",
              "      <td>389</td>\n",
              "    </tr>\n",
              "    <tr>\n",
              "      <th>4</th>\n",
              "      <td>cyan</td>\n",
              "      <td>1018</td>\n",
              "    </tr>\n",
              "  </tbody>\n",
              "</table>\n",
              "</div>"
            ],
            "text/plain": [
              "    color  cantidad\n",
              "0    blue      1101\n",
              "1     red       900\n",
              "2   green      1019\n",
              "3  yellow       389\n",
              "4    cyan      1018"
            ]
          },
          "metadata": {},
          "execution_count": 483
        }
      ]
    }
  ]
}